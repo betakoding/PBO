{
 "cells": [
  {
   "cell_type": "code",
   "execution_count": null,
   "metadata": {
    "id": "fkV8YRAQlm-C"
   },
   "outputs": [],
   "source": []
  },
  {
   "cell_type": "markdown",
   "metadata": {
    "id": "lnkJ-zBHl3jp"
   },
   "source": [
    "## Access Element\n",
    "Keunikan lain dari looping dengan python adalah selain bahasa yang mudah dimengerti dalam looping, kita juga bisa mengakses elemen yang terdapat pada sebuah list. Berikut ini contohnya :\n",
    "``` javascript\n",
    "#Tugas 3.2.1\n",
    "count=[1,2,3,4,5] #elemen list\n",
    "\n",
    "for number in count: #looping untuk menampilkan semua elemen pada count\n",
    "    print(\"Ini adalah element count : \", number) #menampilkan elemen list pada count\n",
    "```\n",
    "Implekementasikan kode diatas, ketikan pada code cell di bawah ini, berikan penjelasan terkait kode diatas"
   ]
  },
  {
   "cell_type": "code",
   "execution_count": 18,
   "metadata": {
    "id": "xYjQqqNLm-dB"
   },
   "outputs": [
    {
     "name": "stdout",
     "output_type": "stream",
     "text": [
      "Ini adalah element count :  1\n",
      "Ini adalah element count :  2\n",
      "Ini adalah element count :  3\n",
      "Ini adalah element count :  4\n",
      "Ini adalah element count :  5\n"
     ]
    }
   ],
   "source": [
    "# Jawaban Tugas 3.2.1\n",
    "\n",
    "a = (5)\n",
    "\n",
    "for a in range (5):\n",
    "    print(\"Ini adalah element count : \", a+1)"
   ]
  },
  {
   "cell_type": "markdown",
   "metadata": {
    "id": "figDWKAcnZRA"
   },
   "source": [
    "## Tugas Praktek 3.2.2\n",
    "1. Buatlah sebuah program yang bisa mengeluarkan angka 1 sampai 10.\n",
    "1. Buatlah sebuah program yang bisa mengeluarkan angka -20 sampai -50.\n",
    "3. Tampilan akan menunjukan \"Angka ganjil 1\" untuk angka ganjil dan \"Angka genap 2\" untuk angka genap. (Menggunakan looping for)\n",
    "\n",
    "**Note:** Kode dasar sudah disertakan, Anda cukup mengganti tanda # dengan nilai-nilai yang sesuai."
   ]
  },
  {
   "cell_type": "code",
   "execution_count": 12,
   "metadata": {
    "id": "MElhruOTntzZ"
   },
   "outputs": [
    {
     "name": "stdout",
     "output_type": "stream",
     "text": [
      "Ini adalah angka ke - 1\n",
      "Ini adalah angka ke - 2\n",
      "Ini adalah angka ke - 3\n",
      "Ini adalah angka ke - 4\n",
      "Ini adalah angka ke - 5\n",
      "Ini adalah angka ke - 6\n",
      "Ini adalah angka ke - 7\n",
      "Ini adalah angka ke - 8\n",
      "Ini adalah angka ke - 9\n",
      "Ini adalah angka ke - 10\n"
     ]
    }
   ],
   "source": [
    "#Jawaban Tugas 3.2.1.1\n",
    "\n",
    "for i in range (10) : \n",
    "    print(\"Ini adalah angka ke -\", i+1)"
   ]
  },
  {
   "cell_type": "code",
   "execution_count": 19,
   "metadata": {
    "id": "NFtMjrQznuF2"
   },
   "outputs": [
    {
     "name": "stdout",
     "output_type": "stream",
     "text": [
      "-20\n",
      "-21\n",
      "-22\n",
      "-23\n",
      "-24\n",
      "-25\n",
      "-26\n",
      "-27\n",
      "-28\n",
      "-29\n",
      "-30\n",
      "-31\n",
      "-32\n",
      "-33\n",
      "-34\n",
      "-35\n",
      "-36\n",
      "-37\n",
      "-38\n",
      "-39\n",
      "-40\n",
      "-41\n",
      "-42\n",
      "-43\n",
      "-44\n",
      "-45\n",
      "-46\n",
      "-47\n",
      "-48\n",
      "-49\n",
      "-50\n"
     ]
    }
   ],
   "source": [
    "    #Jawaban Tugas 3.2.1.2\n",
    "\n",
    "    for i in range (-20,-51,-1):\n",
    "        print(i)"
   ]
  },
  {
   "cell_type": "code",
   "execution_count": 1,
   "metadata": {
    "id": "xpGigMPBpBy7"
   },
   "outputs": [
    {
     "name": "stdout",
     "output_type": "stream",
     "text": [
      "0 Adalah Bilangan Genap\n",
      "1 Adalah bilangan Ganjil\n",
      "2 Adalah Bilangan Genap\n",
      "3 Adalah bilangan Ganjil\n",
      "4 Adalah Bilangan Genap\n",
      "5 Adalah bilangan Ganjil\n",
      "6 Adalah Bilangan Genap\n",
      "7 Adalah bilangan Ganjil\n",
      "8 Adalah Bilangan Genap\n",
      "9 Adalah bilangan Ganjil\n"
     ]
    }
   ],
   "source": [
    "#Jawaban Tugas 3.2.1.3\n",
    "\n",
    "bilangan = 10\n",
    "\n",
    "for bilangan in range(10):\n",
    "    if bilangan % 2 == 0:\n",
    "        print (bilangan, \"Adalah Bilangan Genap\")\n",
    "\n",
    "    else:\n",
    "        print (bilangan, \"Adalah bilangan Ganjil\")"
   ]
  },
  {
   "cell_type": "code",
   "execution_count": null,
   "metadata": {},
   "outputs": [],
   "source": []
  }
 ],
 "metadata": {
  "colab": {
   "collapsed_sections": [],
   "name": "3.2_Tugas_Perulangan.ipynb",
   "provenance": []
  },
  "kernelspec": {
   "display_name": "Python 3",
   "language": "python",
   "name": "python3"
  },
  "language_info": {
   "codemirror_mode": {
    "name": "ipython",
    "version": 3
   },
   "file_extension": ".py",
   "mimetype": "text/x-python",
   "name": "python",
   "nbconvert_exporter": "python",
   "pygments_lexer": "ipython3",
   "version": "3.8.5"
  }
 },
 "nbformat": 4,
 "nbformat_minor": 1
}
