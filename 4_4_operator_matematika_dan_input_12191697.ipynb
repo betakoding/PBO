{
 "cells": [
  {
   "cell_type": "code",
   "execution_count": null,
   "metadata": {
    "id": "f7WajviOKztl"
   },
   "outputs": [],
   "source": []
  },
  {
   "cell_type": "markdown",
   "metadata": {
    "id": "Zf9uJW37LCfb"
   },
   "source": [
    "**Praktek Operasi Input Dan Operator Matematika**\n",
    "\n",
    "Bukalah kembali praktek operator matematika.\n",
    "\n",
    "Ubahlah agar variable **a** dan **b** menggunakan input dari keyboard\n",
    "\n",
    "\n",
    "Implementasikan code di bawah ini pada kode cell editor:\n",
    "``` javascript\n",
    "selisih = a-b\n",
    "jumlah = a+b\n",
    "kali = a*b\n",
    "bagi = a/b\n",
    "print(\"Hasil penjumlahan dan b adalah\", jumlah)\n",
    "print(\"Selisih a dan b adalah :\",selisih)\n",
    "print(\"Hasil perkalian a dan b adalah :\",kali)\n",
    "print(\"Hasil  pembagian a dan b adalah:\",bagi)\n",
    "\n",
    "``` \n",
    " \n",
    "\n",
    "Ketikan pada code cell di bawah ini pada editor:"
   ]
  },
  {
   "cell_type": "code",
   "execution_count": 5,
   "metadata": {
    "id": "hYGfkiKOMo_x"
   },
   "outputs": [
    {
     "name": "stdout",
     "output_type": "stream",
     "text": [
      "Silahkan Masukan Nilai Variabel A : 5\n",
      "Silahkan Masukan Nilai Variabel B : 2\n",
      "\n",
      "\n",
      "Hasilnya Adalah :\n",
      "\n",
      "Hasil penjumlahan dan b adalah 7\n",
      "Selisih a dan b adalah : 3\n",
      "Hasil perkalian a dan b adalah : 10\n",
      "Hasil  pembagian a dan b adalah: 2.5\n"
     ]
    }
   ],
   "source": [
    "##Jawaban Tugas Praktek 3.4\n",
    "\n",
    "a = int (input (\"Silahkan Masukan Nilai Variabel A : \"))\n",
    "b = int (input (\"Silahkan Masukan Nilai Variabel B : \"))\n",
    "\n",
    "print(\"\")\n",
    "print(\"\")\n",
    "print(\"Hasilnya Adalah :\")\n",
    "print(\"\")\n",
    "\n",
    "print(\"Hasil penjumlahan dan b adalah\", a + b)\n",
    "\n",
    "print(\"Selisih a dan b adalah :\", a - b)\n",
    "\n",
    "print(\"Hasil perkalian a dan b adalah :\",a * b)\n",
    "\n",
    "print(\"Hasil  pembagian a dan b adalah:\",a / b)"
   ]
  },
  {
   "cell_type": "code",
   "execution_count": null,
   "metadata": {},
   "outputs": [],
   "source": []
  }
 ],
 "metadata": {
  "colab": {
   "collapsed_sections": [],
   "name": "4.4_operator_matematika_dan_input.ipynb",
   "provenance": []
  },
  "kernelspec": {
   "display_name": "Python 3",
   "language": "python",
   "name": "python3"
  },
  "language_info": {
   "codemirror_mode": {
    "name": "ipython",
    "version": 3
   },
   "file_extension": ".py",
   "mimetype": "text/x-python",
   "name": "python",
   "nbconvert_exporter": "python",
   "pygments_lexer": "ipython3",
   "version": "3.8.5"
  }
 },
 "nbformat": 4,
 "nbformat_minor": 1
}
