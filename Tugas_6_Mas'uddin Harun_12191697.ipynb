{
 "cells": [
  {
   "cell_type": "code",
   "execution_count": null,
   "metadata": {
    "id": "rHy5qNEzCw4G"
   },
   "outputs": [],
   "source": []
  },
  {
   "cell_type": "markdown",
   "metadata": {
    "id": "01TN_fjwL-dN"
   },
   "source": [
    "Buatlah aplikasi Data Mahasiswa sebagai berikut:\n",
    "\n",
    "INPUT DATA MAHASISWA\n",
    "\n",
    "NIM    :\n",
    "\n",
    "NAMA   :\n",
    "\n",
    "ALAMAT :\n",
    "\n",
    "JURUSAN :\n",
    "\n",
    "KETERANGAN JURUSAN [1] SISTEM INFORMASI [2] TEKNIK INFORMATIKA\n",
    "\n",
    "Apakah Anda ingin memasukkan data lagi ? (Y) Ya ; (T) Tidak : \n",
    "\n",
    "\n"
   ]
  },
  {
   "cell_type": "markdown",
   "metadata": {
    "id": "NlRdQu4hNPdv"
   },
   "source": [
    "**Requirement I**\n",
    "\n",
    "Perulangan input akan terjadi jika user memasukkan “Y”, maka selanjutnya akan memasukkan data mahasiswa lagi dan jika user memasukkan data “T”, maka aplikasi berhenti, kemudian menampilkan data yang telah dimasukan.\n"
   ]
  },
  {
   "cell_type": "code",
   "execution_count": 6,
   "metadata": {
    "id": "Ge48DNVFDqjh"
   },
   "outputs": [
    {
     "name": "stdout",
     "output_type": "stream",
     "text": [
      "\n",
      "INPUT DATA MAHASISWA\n",
      "\n",
      "Masukan NIM Anda : 1291697\n",
      "Masukan Nama Anda : adam\n",
      "Masukan Alamat Anda : koe\n",
      "Masukan Jurusan Anda : 1\n",
      "\n",
      "Apakah Anda ingin memasukkan data lagi ? (Y) Ya ; (T) Tidak : t\n",
      "\n",
      "\n",
      "+----+---------+------+--------+---------+\n",
      "| NO |   NIM   | NAMA | ALAMAT | JURUSAN |\n",
      "+====+=========+======+========+=========+\n",
      "| 1  | 1291697 | adam | koe    | 1       |\n",
      "+----+---------+------+--------+---------+\n",
      "KETERANGAN JURUSAN : [1] SISTEM INFORMASI [2] TEKNIK INFORMATIKA\n",
      "\n"
     ]
    }
   ],
   "source": [
    "#Jawaban Tugas 6\n",
    "\n",
    "#Mohon maaf pak saya buat sedikit berbeda dari yang lain\n",
    "\n",
    "from texttable import Texttable\n",
    "\n",
    "table = Texttable()\n",
    "jawab = \"y\"\n",
    "no = 0\n",
    "name = []\n",
    "nim = []\n",
    "address = []\n",
    "majors = []\n",
    "\n",
    "\n",
    "print()\n",
    "print(\"INPUT DATA MAHASISWA\")\n",
    "print()\n",
    "\n",
    "#Bagian Perulangan\n",
    "while (jawab == \"y\"):\n",
    "    nim.append (input(\"Masukan NIM Anda : \"))\n",
    "    name.append (input(\"Masukan Nama Anda : \"))\n",
    "    address.append (input(\"Masukan Alamat Anda : \"))\n",
    "    majors.append (input(\"Masukan Jurusan Anda : \"))\n",
    "\n",
    "    print()\n",
    "    jawab = input(\"Apakah Anda ingin memasukkan data lagi ? (Y) Ya ; (T) Tidak : \")\n",
    "    print()\n",
    "    no += 1\n",
    "    \n",
    "    for n in range (no):\n",
    "        table.add_rows([['NO','NIM', 'NAMA', 'ALAMAT', 'JURUSAN'], [n+1, nim[n], name[n], address[n], majors[n]]])\n",
    "        \n",
    "        print()\n",
    "\n",
    "print (table.draw())\n",
    "print(\"KETERANGAN JURUSAN : [1] SISTEM INFORMASI [2] TEKNIK INFORMATIKA\")\n",
    "print()"
   ]
  },
  {
   "cell_type": "code",
   "execution_count": null,
   "metadata": {},
   "outputs": [],
   "source": []
  }
 ],
 "metadata": {
  "colab": {
   "collapsed_sections": [],
   "name": "Tugas___6.ipynb",
   "provenance": []
  },
  "kernelspec": {
   "display_name": "Python 3",
   "language": "python",
   "name": "python3"
  },
  "language_info": {
   "codemirror_mode": {
    "name": "ipython",
    "version": 3
   },
   "file_extension": ".py",
   "mimetype": "text/x-python",
   "name": "python",
   "nbconvert_exporter": "python",
   "pygments_lexer": "ipython3",
   "version": "3.8.5"
  }
 },
 "nbformat": 4,
 "nbformat_minor": 1
}
